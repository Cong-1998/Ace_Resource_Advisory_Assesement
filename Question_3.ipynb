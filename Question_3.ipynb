{
  "nbformat": 4,
  "nbformat_minor": 0,
  "metadata": {
    "colab": {
      "name": "Question 3.ipynb",
      "provenance": []
    },
    "kernelspec": {
      "name": "python3",
      "display_name": "Python 3"
    },
    "language_info": {
      "name": "python"
    }
  },
  "cells": [
    {
      "cell_type": "markdown",
      "source": [
        "**a. What is the probability of the word “data” occurring in each line ?**"
      ],
      "metadata": {
        "id": "ReLlklPE39j8"
      }
    },
    {
      "cell_type": "code",
      "execution_count": 1,
      "metadata": {
        "colab": {
          "base_uri": "https://localhost:8080/"
        },
        "id": "zKDgeXYV3k2M",
        "outputId": "b791aa34-b4f9-4168-fa53-9c2a1bfa690e"
      },
      "outputs": [
        {
          "output_type": "stream",
          "name": "stderr",
          "text": [
            "[nltk_data] Downloading package punkt to /root/nltk_data...\n",
            "[nltk_data]   Package punkt is already up-to-date!\n"
          ]
        }
      ],
      "source": [
        "# import libraries\n",
        "\n",
        "import re\n",
        "import pandas as pd\n",
        "import nltk\n",
        "nltk.download('punkt')\n",
        "import matplotlib.pyplot as plt\n",
        "from scipy.stats import norm\n",
        "import operator\n",
        "from sklearn.feature_extraction.text import CountVectorizer, TfidfVectorizer \n",
        "from nltk.corpus import stopwords \n",
        "from nltk.tokenize import word_tokenize, sent_tokenize"
      ]
    },
    {
      "cell_type": "code",
      "source": [
        "# load data\n",
        "\n",
        "string = \"As a term, data analytics predominantly refers to an assortment of applications, from basic business intelligence (BI), reporting and online analytical processing (OLAP) to various forms of advanced analytics. In that sense, it's similar in nature to business analytics, another umbrella term for approaches to analyzing data -- with the difference that the latter is oriented to business uses, while data analytics has a broader focus. The expansive view of the term isn't universal, though: In some cases, people use data analytics specifically to mean advanced analytics, treating BI as a separate category. Data analytics initiatives can help businesses increase revenues, improve operational efficiency, optimize marketing campaigns and customer service efforts, respond more quickly to emerging market trends and gain a competitive edge over rivals -- all with the ultimate goal of boosting business performance. Depending on the particular application, the data that's analyzed can consist of either historical records or new information that has been processed for real-time analytics uses. In addition, it can come from a mix of internal systems and external data sources. At a high level, data analytics methodologies include exploratory data analysis (EDA), which aims to find patterns and relationships in data, and confirmatory data analysis (CDA), which applies statistical techniques to determine whether hypotheses about a data set are true or false. EDA is often compared to detective work, while CDA is akin to the work of a judge or jury during a court trial -- a distinction first drawn by statistician John W. Tukey in his 1977 book Exploratory Data Analysis. Data analytics can also be separated into quantitative data analysis and qualitative data analysis. The former involves analysis of numerical data with quantifiable variables that can be compared or measured statistically. The qualitative approach is more interpretive -- it focuses on understanding the content of non-numerical data like text, images, audio and video, including common phrases, themes and points of view.\"\n",
        "print(string)"
      ],
      "metadata": {
        "colab": {
          "base_uri": "https://localhost:8080/"
        },
        "id": "qw-tuWX54VSR",
        "outputId": "4de5fe5c-a792-4ef4-bb31-df91b11d3d09"
      },
      "execution_count": 2,
      "outputs": [
        {
          "output_type": "stream",
          "name": "stdout",
          "text": [
            "As a term, data analytics predominantly refers to an assortment of applications, from basic business intelligence (BI), reporting and online analytical processing (OLAP) to various forms of advanced analytics. In that sense, it's similar in nature to business analytics, another umbrella term for approaches to analyzing data -- with the difference that the latter is oriented to business uses, while data analytics has a broader focus. The expansive view of the term isn't universal, though: In some cases, people use data analytics specifically to mean advanced analytics, treating BI as a separate category. Data analytics initiatives can help businesses increase revenues, improve operational efficiency, optimize marketing campaigns and customer service efforts, respond more quickly to emerging market trends and gain a competitive edge over rivals -- all with the ultimate goal of boosting business performance. Depending on the particular application, the data that's analyzed can consist of either historical records or new information that has been processed for real-time analytics uses. In addition, it can come from a mix of internal systems and external data sources. At a high level, data analytics methodologies include exploratory data analysis (EDA), which aims to find patterns and relationships in data, and confirmatory data analysis (CDA), which applies statistical techniques to determine whether hypotheses about a data set are true or false. EDA is often compared to detective work, while CDA is akin to the work of a judge or jury during a court trial -- a distinction first drawn by statistician John W. Tukey in his 1977 book Exploratory Data Analysis. Data analytics can also be separated into quantitative data analysis and qualitative data analysis. The former involves analysis of numerical data with quantifiable variables that can be compared or measured statistically. The qualitative approach is more interpretive -- it focuses on understanding the content of non-numerical data like text, images, audio and video, including common phrases, themes and points of view.\n"
          ]
        }
      ]
    },
    {
      "cell_type": "code",
      "source": [
        "# clean data\n",
        "\n",
        "# change string to lower case\n",
        "string_low = string.lower()\n",
        "\n",
        "# change paragraph to each line\n",
        "string_split = sent_tokenize(string_low)\n",
        "\n",
        "string_split"
      ],
      "metadata": {
        "colab": {
          "base_uri": "https://localhost:8080/"
        },
        "id": "KoefUFaC4l9S",
        "outputId": "cae2b902-ddb3-4e1a-8e07-1638bcc04289"
      },
      "execution_count": 3,
      "outputs": [
        {
          "output_type": "execute_result",
          "data": {
            "text/plain": [
              "['as a term, data analytics predominantly refers to an assortment of applications, from basic business intelligence (bi), reporting and online analytical processing (olap) to various forms of advanced analytics.',\n",
              " \"in that sense, it's similar in nature to business analytics, another umbrella term for approaches to analyzing data -- with the difference that the latter is oriented to business uses, while data analytics has a broader focus.\",\n",
              " \"the expansive view of the term isn't universal, though: in some cases, people use data analytics specifically to mean advanced analytics, treating bi as a separate category.\",\n",
              " 'data analytics initiatives can help businesses increase revenues, improve operational efficiency, optimize marketing campaigns and customer service efforts, respond more quickly to emerging market trends and gain a competitive edge over rivals -- all with the ultimate goal of boosting business performance.',\n",
              " \"depending on the particular application, the data that's analyzed can consist of either historical records or new information that has been processed for real-time analytics uses.\",\n",
              " 'in addition, it can come from a mix of internal systems and external data sources.',\n",
              " 'at a high level, data analytics methodologies include exploratory data analysis (eda), which aims to find patterns and relationships in data, and confirmatory data analysis (cda), which applies statistical techniques to determine whether hypotheses about a data set are true or false.',\n",
              " 'eda is often compared to detective work, while cda is akin to the work of a judge or jury during a court trial -- a distinction first drawn by statistician john w. tukey in his 1977 book exploratory data analysis.',\n",
              " 'data analytics can also be separated into quantitative data analysis and qualitative data analysis.',\n",
              " 'the former involves analysis of numerical data with quantifiable variables that can be compared or measured statistically.',\n",
              " 'the qualitative approach is more interpretive -- it focuses on understanding the content of non-numerical data like text, images, audio and video, including common phrases, themes and points of view.']"
            ]
          },
          "metadata": {},
          "execution_count": 3
        }
      ]
    },
    {
      "cell_type": "code",
      "source": [
        "# find data word count in each line\n",
        "\n",
        "arr_data = []\n",
        "\n",
        "for i in range(len(string_split)):\n",
        "  data_count = string_split[i].count(\"data\")\n",
        "  arr_data.append(data_count)\n",
        "\n",
        "arr_data"
      ],
      "metadata": {
        "colab": {
          "base_uri": "https://localhost:8080/"
        },
        "id": "9LzTDKMmFeQz",
        "outputId": "41744ed1-55ca-49d0-e90c-fd212503e855"
      },
      "execution_count": 4,
      "outputs": [
        {
          "output_type": "execute_result",
          "data": {
            "text/plain": [
              "[1, 2, 1, 1, 1, 1, 5, 1, 3, 1, 1]"
            ]
          },
          "metadata": {},
          "execution_count": 4
        }
      ]
    },
    {
      "cell_type": "code",
      "source": [
        "# find total word count in each line\n",
        "\n",
        "arr_sum = []\n",
        "\n",
        "for i in range(len(string_split)):\n",
        "  arr_sum.append(len(string_split[i].split()))\n",
        "\n",
        "arr_sum"
      ],
      "metadata": {
        "colab": {
          "base_uri": "https://localhost:8080/"
        },
        "id": "iKTZ1vZpGJq9",
        "outputId": "5111dae2-2467-4145-9c96-19ade5476ffb"
      },
      "execution_count": 5,
      "outputs": [
        {
          "output_type": "execute_result",
          "data": {
            "text/plain": [
              "[29, 37, 27, 42, 26, 15, 42, 40, 14, 17, 30]"
            ]
          },
          "metadata": {},
          "execution_count": 5
        }
      ]
    },
    {
      "cell_type": "code",
      "source": [
        "# find probability of data word in each line\n",
        "\n",
        "arr_prob_data = []\n",
        "for i in range(len(string_split)):\n",
        "  prob_data = arr_data[i]/arr_sum[i]\n",
        "  arr_prob_data.append(round(prob_data, 3))\n",
        "\n",
        "arr_prob_data"
      ],
      "metadata": {
        "colab": {
          "base_uri": "https://localhost:8080/"
        },
        "id": "EgqLu_1NHOM0",
        "outputId": "ba1fd594-b0a4-4606-f654-eaf24ea88d31"
      },
      "execution_count": 6,
      "outputs": [
        {
          "output_type": "execute_result",
          "data": {
            "text/plain": [
              "[0.034, 0.054, 0.037, 0.024, 0.038, 0.067, 0.119, 0.025, 0.214, 0.059, 0.033]"
            ]
          },
          "metadata": {},
          "execution_count": 6
        }
      ]
    },
    {
      "cell_type": "code",
      "source": [
        "print(\"Average probability of the word 'data' occurring in each line is\", sum(arr_prob_data)/len(arr_prob_data))"
      ],
      "metadata": {
        "colab": {
          "base_uri": "https://localhost:8080/"
        },
        "id": "j46LSETvI77p",
        "outputId": "fbb90860-758c-485c-dcd1-fb25adc8f4d7"
      },
      "execution_count": 7,
      "outputs": [
        {
          "output_type": "stream",
          "name": "stdout",
          "text": [
            "Average probability of the word 'data' occurring in each line is 0.064\n"
          ]
        }
      ]
    },
    {
      "cell_type": "markdown",
      "source": [
        "**b. What is the distribution of distinct word counts across all the lines ?**"
      ],
      "metadata": {
        "id": "1b-8YTh6KAXz"
      }
    },
    {
      "cell_type": "code",
      "source": [
        "df_unique_words = pd.DataFrame(arr_sum)\n",
        "df_unique_words = df_unique_words.rename(columns={0: \"Unique_Words\"})\n",
        "df_unique_words"
      ],
      "metadata": {
        "colab": {
          "base_uri": "https://localhost:8080/",
          "height": 394
        },
        "id": "GUFIYXSn5dpN",
        "outputId": "e3a8c665-b48a-425c-cead-1c2c27e9b6a4"
      },
      "execution_count": 8,
      "outputs": [
        {
          "output_type": "execute_result",
          "data": {
            "text/plain": [
              "    Unique_Words\n",
              "0             29\n",
              "1             37\n",
              "2             27\n",
              "3             42\n",
              "4             26\n",
              "5             15\n",
              "6             42\n",
              "7             40\n",
              "8             14\n",
              "9             17\n",
              "10            30"
            ],
            "text/html": [
              "\n",
              "  <div id=\"df-e1b99778-01ed-4b29-a417-da7f7e4e2e88\">\n",
              "    <div class=\"colab-df-container\">\n",
              "      <div>\n",
              "<style scoped>\n",
              "    .dataframe tbody tr th:only-of-type {\n",
              "        vertical-align: middle;\n",
              "    }\n",
              "\n",
              "    .dataframe tbody tr th {\n",
              "        vertical-align: top;\n",
              "    }\n",
              "\n",
              "    .dataframe thead th {\n",
              "        text-align: right;\n",
              "    }\n",
              "</style>\n",
              "<table border=\"1\" class=\"dataframe\">\n",
              "  <thead>\n",
              "    <tr style=\"text-align: right;\">\n",
              "      <th></th>\n",
              "      <th>Unique_Words</th>\n",
              "    </tr>\n",
              "  </thead>\n",
              "  <tbody>\n",
              "    <tr>\n",
              "      <th>0</th>\n",
              "      <td>29</td>\n",
              "    </tr>\n",
              "    <tr>\n",
              "      <th>1</th>\n",
              "      <td>37</td>\n",
              "    </tr>\n",
              "    <tr>\n",
              "      <th>2</th>\n",
              "      <td>27</td>\n",
              "    </tr>\n",
              "    <tr>\n",
              "      <th>3</th>\n",
              "      <td>42</td>\n",
              "    </tr>\n",
              "    <tr>\n",
              "      <th>4</th>\n",
              "      <td>26</td>\n",
              "    </tr>\n",
              "    <tr>\n",
              "      <th>5</th>\n",
              "      <td>15</td>\n",
              "    </tr>\n",
              "    <tr>\n",
              "      <th>6</th>\n",
              "      <td>42</td>\n",
              "    </tr>\n",
              "    <tr>\n",
              "      <th>7</th>\n",
              "      <td>40</td>\n",
              "    </tr>\n",
              "    <tr>\n",
              "      <th>8</th>\n",
              "      <td>14</td>\n",
              "    </tr>\n",
              "    <tr>\n",
              "      <th>9</th>\n",
              "      <td>17</td>\n",
              "    </tr>\n",
              "    <tr>\n",
              "      <th>10</th>\n",
              "      <td>30</td>\n",
              "    </tr>\n",
              "  </tbody>\n",
              "</table>\n",
              "</div>\n",
              "      <button class=\"colab-df-convert\" onclick=\"convertToInteractive('df-e1b99778-01ed-4b29-a417-da7f7e4e2e88')\"\n",
              "              title=\"Convert this dataframe to an interactive table.\"\n",
              "              style=\"display:none;\">\n",
              "        \n",
              "  <svg xmlns=\"http://www.w3.org/2000/svg\" height=\"24px\"viewBox=\"0 0 24 24\"\n",
              "       width=\"24px\">\n",
              "    <path d=\"M0 0h24v24H0V0z\" fill=\"none\"/>\n",
              "    <path d=\"M18.56 5.44l.94 2.06.94-2.06 2.06-.94-2.06-.94-.94-2.06-.94 2.06-2.06.94zm-11 1L8.5 8.5l.94-2.06 2.06-.94-2.06-.94L8.5 2.5l-.94 2.06-2.06.94zm10 10l.94 2.06.94-2.06 2.06-.94-2.06-.94-.94-2.06-.94 2.06-2.06.94z\"/><path d=\"M17.41 7.96l-1.37-1.37c-.4-.4-.92-.59-1.43-.59-.52 0-1.04.2-1.43.59L10.3 9.45l-7.72 7.72c-.78.78-.78 2.05 0 2.83L4 21.41c.39.39.9.59 1.41.59.51 0 1.02-.2 1.41-.59l7.78-7.78 2.81-2.81c.8-.78.8-2.07 0-2.86zM5.41 20L4 18.59l7.72-7.72 1.47 1.35L5.41 20z\"/>\n",
              "  </svg>\n",
              "      </button>\n",
              "      \n",
              "  <style>\n",
              "    .colab-df-container {\n",
              "      display:flex;\n",
              "      flex-wrap:wrap;\n",
              "      gap: 12px;\n",
              "    }\n",
              "\n",
              "    .colab-df-convert {\n",
              "      background-color: #E8F0FE;\n",
              "      border: none;\n",
              "      border-radius: 50%;\n",
              "      cursor: pointer;\n",
              "      display: none;\n",
              "      fill: #1967D2;\n",
              "      height: 32px;\n",
              "      padding: 0 0 0 0;\n",
              "      width: 32px;\n",
              "    }\n",
              "\n",
              "    .colab-df-convert:hover {\n",
              "      background-color: #E2EBFA;\n",
              "      box-shadow: 0px 1px 2px rgba(60, 64, 67, 0.3), 0px 1px 3px 1px rgba(60, 64, 67, 0.15);\n",
              "      fill: #174EA6;\n",
              "    }\n",
              "\n",
              "    [theme=dark] .colab-df-convert {\n",
              "      background-color: #3B4455;\n",
              "      fill: #D2E3FC;\n",
              "    }\n",
              "\n",
              "    [theme=dark] .colab-df-convert:hover {\n",
              "      background-color: #434B5C;\n",
              "      box-shadow: 0px 1px 3px 1px rgba(0, 0, 0, 0.15);\n",
              "      filter: drop-shadow(0px 1px 2px rgba(0, 0, 0, 0.3));\n",
              "      fill: #FFFFFF;\n",
              "    }\n",
              "  </style>\n",
              "\n",
              "      <script>\n",
              "        const buttonEl =\n",
              "          document.querySelector('#df-e1b99778-01ed-4b29-a417-da7f7e4e2e88 button.colab-df-convert');\n",
              "        buttonEl.style.display =\n",
              "          google.colab.kernel.accessAllowed ? 'block' : 'none';\n",
              "\n",
              "        async function convertToInteractive(key) {\n",
              "          const element = document.querySelector('#df-e1b99778-01ed-4b29-a417-da7f7e4e2e88');\n",
              "          const dataTable =\n",
              "            await google.colab.kernel.invokeFunction('convertToInteractive',\n",
              "                                                     [key], {});\n",
              "          if (!dataTable) return;\n",
              "\n",
              "          const docLinkHtml = 'Like what you see? Visit the ' +\n",
              "            '<a target=\"_blank\" href=https://colab.research.google.com/notebooks/data_table.ipynb>data table notebook</a>'\n",
              "            + ' to learn more about interactive tables.';\n",
              "          element.innerHTML = '';\n",
              "          dataTable['output_type'] = 'display_data';\n",
              "          await google.colab.output.renderOutput(dataTable, element);\n",
              "          const docLink = document.createElement('div');\n",
              "          docLink.innerHTML = docLinkHtml;\n",
              "          element.appendChild(docLink);\n",
              "        }\n",
              "      </script>\n",
              "    </div>\n",
              "  </div>\n",
              "  "
            ]
          },
          "metadata": {},
          "execution_count": 8
        }
      ]
    },
    {
      "cell_type": "code",
      "source": [
        "df = df_unique_words.copy()\n",
        "mean = df.mean()\n",
        "std = df.std()\n",
        "pdf = norm.pdf(df[\"Unique_Words\"].sort_values(), mean, std)\n",
        "plt.plot(df[\"Unique_Words\"].sort_values(), pdf)\n",
        "plt.title(\"Unique_Words\")\n",
        "plt.show()"
      ],
      "metadata": {
        "colab": {
          "base_uri": "https://localhost:8080/",
          "height": 281
        },
        "id": "kCaKOB65Lq42",
        "outputId": "d1282119-e0d7-4189-a469-c2d242fa93a9"
      },
      "execution_count": 9,
      "outputs": [
        {
          "output_type": "display_data",
          "data": {
            "text/plain": [
              "<Figure size 432x288 with 1 Axes>"
            ],
            "image/png": "[encoded data removed]"
          },
          "metadata": {
            "needs_background": "light"
          }
        }
      ]
    },
    {
      "cell_type": "markdown",
      "source": [
        "*This is normally distributed.*"
      ],
      "metadata": {
        "id": "FSM9gbgkM7xV"
      }
    },
    {
      "cell_type": "markdown",
      "source": [
        "**c. What is the probability of the word “analytics” occurring after the word “data” ?**"
      ],
      "metadata": {
        "id": "KLL00TZSNO8U"
      }
    },
    {
      "cell_type": "code",
      "source": [
        "# cleaning data\n",
        "\n",
        "# remove punctuation\n",
        "new_string = re.sub(r'[^\\w\\s]', '', string_low)\n",
        "\n",
        "new_string"
      ],
      "metadata": {
        "colab": {
          "base_uri": "https://localhost:8080/",
          "height": 123
        },
        "id": "1rITg3JNSpym",
        "outputId": "f1f97171-bcad-40bb-adb3-6cbc6dba5218"
      },
      "execution_count": 10,
      "outputs": [
        {
          "output_type": "execute_result",
          "data": {
            "text/plain": [
              "'as a term data analytics predominantly refers to an assortment of applications from basic business intelligence bi reporting and online analytical processing olap to various forms of advanced analytics in that sense its similar in nature to business analytics another umbrella term for approaches to analyzing data  with the difference that the latter is oriented to business uses while data analytics has a broader focus the expansive view of the term isnt universal though in some cases people use data analytics specifically to mean advanced analytics treating bi as a separate category data analytics initiatives can help businesses increase revenues improve operational efficiency optimize marketing campaigns and customer service efforts respond more quickly to emerging market trends and gain a competitive edge over rivals  all with the ultimate goal of boosting business performance depending on the particular application the data thats analyzed can consist of either historical records or new information that has been processed for realtime analytics uses in addition it can come from a mix of internal systems and external data sources at a high level data analytics methodologies include exploratory data analysis eda which aims to find patterns and relationships in data and confirmatory data analysis cda which applies statistical techniques to determine whether hypotheses about a data set are true or false eda is often compared to detective work while cda is akin to the work of a judge or jury during a court trial  a distinction first drawn by statistician john w tukey in his 1977 book exploratory data analysis data analytics can also be separated into quantitative data analysis and qualitative data analysis the former involves analysis of numerical data with quantifiable variables that can be compared or measured statistically the qualitative approach is more interpretive  it focuses on understanding the content of nonnumerical data like text images audio and video including common phrases themes and points of view'"
            ],
            "application/vnd.google.colaboratory.intrinsic+json": {
              "type": "string"
            }
          },
          "metadata": {},
          "execution_count": 10
        }
      ]
    },
    {
      "cell_type": "code",
      "source": [
        "# display bigram and their count\n",
        "\n",
        "tokens = word_tokenize(new_string)\n",
        "bigrams = nltk.bigrams(tokens)\n",
        "frequence = nltk.FreqDist(bigrams)\n",
        "sorte = dict(sorted(frequence.items(), key=operator.itemgetter(1),reverse=True))\n",
        "for key,value in sorte.items():\n",
        "    print(key,value)"
      ],
      "metadata": {
        "colab": {
          "base_uri": "https://localhost:8080/"
        },
        "id": "J2afH496OMS1",
        "outputId": "be9e109f-5203-405d-b565-bfd73cde96aa"
      },
      "execution_count": 11,
      "outputs": [
        {
          "output_type": "stream",
          "name": "stdout",
          "text": [
            "('data', 'analytics') 6\n",
            "('data', 'analysis') 5\n",
            "('as', 'a') 2\n",
            "('advanced', 'analytics') 2\n",
            "('to', 'business') 2\n",
            "('data', 'with') 2\n",
            "('with', 'the') 2\n",
            "('exploratory', 'data') 2\n",
            "('a', 'term') 1\n",
            "('term', 'data') 1\n",
            "('analytics', 'predominantly') 1\n",
            "('predominantly', 'refers') 1\n",
            "('refers', 'to') 1\n",
            "('to', 'an') 1\n",
            "('an', 'assortment') 1\n",
            "('assortment', 'of') 1\n",
            "('of', 'applications') 1\n",
            "('applications', 'from') 1\n",
            "('from', 'basic') 1\n",
            "('basic', 'business') 1\n",
            "('business', 'intelligence') 1\n",
            "('intelligence', 'bi') 1\n",
            "('bi', 'reporting') 1\n",
            "('reporting', 'and') 1\n",
            "('and', 'online') 1\n",
            "('online', 'analytical') 1\n",
            "('analytical', 'processing') 1\n",
            "('processing', 'olap') 1\n",
            "('olap', 'to') 1\n",
            "('to', 'various') 1\n",
            "('various', 'forms') 1\n",
            "('forms', 'of') 1\n",
            "('of', 'advanced') 1\n",
            "('analytics', 'in') 1\n",
            "('in', 'that') 1\n",
            "('that', 'sense') 1\n",
            "('sense', 'its') 1\n",
            "('its', 'similar') 1\n",
            "('similar', 'in') 1\n",
            "('in', 'nature') 1\n",
            "('nature', 'to') 1\n",
            "('business', 'analytics') 1\n",
            "('analytics', 'another') 1\n",
            "('another', 'umbrella') 1\n",
            "('umbrella', 'term') 1\n",
            "('term', 'for') 1\n",
            "('for', 'approaches') 1\n",
            "('approaches', 'to') 1\n",
            "('to', 'analyzing') 1\n",
            "('analyzing', 'data') 1\n",
            "('the', 'difference') 1\n",
            "('difference', 'that') 1\n",
            "('that', 'the') 1\n",
            "('the', 'latter') 1\n",
            "('latter', 'is') 1\n",
            "('is', 'oriented') 1\n",
            "('oriented', 'to') 1\n",
            "('business', 'uses') 1\n",
            "('uses', 'while') 1\n",
            "('while', 'data') 1\n",
            "('analytics', 'has') 1\n",
            "('has', 'a') 1\n",
            "('a', 'broader') 1\n",
            "('broader', 'focus') 1\n",
            "('focus', 'the') 1\n",
            "('the', 'expansive') 1\n",
            "('expansive', 'view') 1\n",
            "('view', 'of') 1\n",
            "('of', 'the') 1\n",
            "('the', 'term') 1\n",
            "('term', 'isnt') 1\n",
            "('isnt', 'universal') 1\n",
            "('universal', 'though') 1\n",
            "('though', 'in') 1\n",
            "('in', 'some') 1\n",
            "('some', 'cases') 1\n",
            "('cases', 'people') 1\n",
            "('people', 'use') 1\n",
            "('use', 'data') 1\n",
            "('analytics', 'specifically') 1\n",
            "('specifically', 'to') 1\n",
            "('to', 'mean') 1\n",
            "('mean', 'advanced') 1\n",
            "('analytics', 'treating') 1\n",
            "('treating', 'bi') 1\n",
            "('bi', 'as') 1\n",
            "('a', 'separate') 1\n",
            "('separate', 'category') 1\n",
            "('category', 'data') 1\n",
            "('analytics', 'initiatives') 1\n",
            "('initiatives', 'can') 1\n",
            "('can', 'help') 1\n",
            "('help', 'businesses') 1\n",
            "('businesses', 'increase') 1\n",
            "('increase', 'revenues') 1\n",
            "('revenues', 'improve') 1\n",
            "('improve', 'operational') 1\n",
            "('operational', 'efficiency') 1\n",
            "('efficiency', 'optimize') 1\n",
            "('optimize', 'marketing') 1\n",
            "('marketing', 'campaigns') 1\n",
            "('campaigns', 'and') 1\n",
            "('and', 'customer') 1\n",
            "('customer', 'service') 1\n",
            "('service', 'efforts') 1\n",
            "('efforts', 'respond') 1\n",
            "('respond', 'more') 1\n",
            "('more', 'quickly') 1\n",
            "('quickly', 'to') 1\n",
            "('to', 'emerging') 1\n",
            "('emerging', 'market') 1\n",
            "('market', 'trends') 1\n",
            "('trends', 'and') 1\n",
            "('and', 'gain') 1\n",
            "('gain', 'a') 1\n",
            "('a', 'competitive') 1\n",
            "('competitive', 'edge') 1\n",
            "('edge', 'over') 1\n",
            "('over', 'rivals') 1\n",
            "('rivals', 'all') 1\n",
            "('all', 'with') 1\n",
            "('the', 'ultimate') 1\n",
            "('ultimate', 'goal') 1\n",
            "('goal', 'of') 1\n",
            "('of', 'boosting') 1\n",
            "('boosting', 'business') 1\n",
            "('business', 'performance') 1\n",
            "('performance', 'depending') 1\n",
            "('depending', 'on') 1\n",
            "('on', 'the') 1\n",
            "('the', 'particular') 1\n",
            "('particular', 'application') 1\n",
            "('application', 'the') 1\n",
            "('the', 'data') 1\n",
            "('data', 'thats') 1\n",
            "('thats', 'analyzed') 1\n",
            "('analyzed', 'can') 1\n",
            "('can', 'consist') 1\n",
            "('consist', 'of') 1\n",
            "('of', 'either') 1\n",
            "('either', 'historical') 1\n",
            "('historical', 'records') 1\n",
            "('records', 'or') 1\n",
            "('or', 'new') 1\n",
            "('new', 'information') 1\n",
            "('information', 'that') 1\n",
            "('that', 'has') 1\n",
            "('has', 'been') 1\n",
            "('been', 'processed') 1\n",
            "('processed', 'for') 1\n",
            "('for', 'realtime') 1\n",
            "('realtime', 'analytics') 1\n",
            "('analytics', 'uses') 1\n",
            "('uses', 'in') 1\n",
            "('in', 'addition') 1\n",
            "('addition', 'it') 1\n",
            "('it', 'can') 1\n",
            "('can', 'come') 1\n",
            "('come', 'from') 1\n",
            "('from', 'a') 1\n",
            "('a', 'mix') 1\n",
            "('mix', 'of') 1\n",
            "('of', 'internal') 1\n",
            "('internal', 'systems') 1\n",
            "('systems', 'and') 1\n",
            "('and', 'external') 1\n",
            "('external', 'data') 1\n",
            "('data', 'sources') 1\n",
            "('sources', 'at') 1\n",
            "('at', 'a') 1\n",
            "('a', 'high') 1\n",
            "('high', 'level') 1\n",
            "('level', 'data') 1\n",
            "('analytics', 'methodologies') 1\n",
            "('methodologies', 'include') 1\n",
            "('include', 'exploratory') 1\n",
            "('analysis', 'eda') 1\n",
            "('eda', 'which') 1\n",
            "('which', 'aims') 1\n",
            "('aims', 'to') 1\n",
            "('to', 'find') 1\n",
            "('find', 'patterns') 1\n",
            "('patterns', 'and') 1\n",
            "('and', 'relationships') 1\n",
            "('relationships', 'in') 1\n",
            "('in', 'data') 1\n",
            "('data', 'and') 1\n",
            "('and', 'confirmatory') 1\n",
            "('confirmatory', 'data') 1\n",
            "('analysis', 'cda') 1\n",
            "('cda', 'which') 1\n",
            "('which', 'applies') 1\n",
            "('applies', 'statistical') 1\n",
            "('statistical', 'techniques') 1\n",
            "('techniques', 'to') 1\n",
            "('to', 'determine') 1\n",
            "('determine', 'whether') 1\n",
            "('whether', 'hypotheses') 1\n",
            "('hypotheses', 'about') 1\n",
            "('about', 'a') 1\n",
            "('a', 'data') 1\n",
            "('data', 'set') 1\n",
            "('set', 'are') 1\n",
            "('are', 'true') 1\n",
            "('true', 'or') 1\n",
            "('or', 'false') 1\n",
            "('false', 'eda') 1\n",
            "('eda', 'is') 1\n",
            "('is', 'often') 1\n",
            "('often', 'compared') 1\n",
            "('compared', 'to') 1\n",
            "('to', 'detective') 1\n",
            "('detective', 'work') 1\n",
            "('work', 'while') 1\n",
            "('while', 'cda') 1\n",
            "('cda', 'is') 1\n",
            "('is', 'akin') 1\n",
            "('akin', 'to') 1\n",
            "('to', 'the') 1\n",
            "('the', 'work') 1\n",
            "('work', 'of') 1\n",
            "('of', 'a') 1\n",
            "('a', 'judge') 1\n",
            "('judge', 'or') 1\n",
            "('or', 'jury') 1\n",
            "('jury', 'during') 1\n",
            "('during', 'a') 1\n",
            "('a', 'court') 1\n",
            "('court', 'trial') 1\n",
            "('trial', 'a') 1\n",
            "('a', 'distinction') 1\n",
            "('distinction', 'first') 1\n",
            "('first', 'drawn') 1\n",
            "('drawn', 'by') 1\n",
            "('by', 'statistician') 1\n",
            "('statistician', 'john') 1\n",
            "('john', 'w') 1\n",
            "('w', 'tukey') 1\n",
            "('tukey', 'in') 1\n",
            "('in', 'his') 1\n",
            "('his', '1977') 1\n",
            "('1977', 'book') 1\n",
            "('book', 'exploratory') 1\n",
            "('analysis', 'data') 1\n",
            "('analytics', 'can') 1\n",
            "('can', 'also') 1\n",
            "('also', 'be') 1\n",
            "('be', 'separated') 1\n",
            "('separated', 'into') 1\n",
            "('into', 'quantitative') 1\n",
            "('quantitative', 'data') 1\n",
            "('analysis', 'and') 1\n",
            "('and', 'qualitative') 1\n",
            "('qualitative', 'data') 1\n",
            "('analysis', 'the') 1\n",
            "('the', 'former') 1\n",
            "('former', 'involves') 1\n",
            "('involves', 'analysis') 1\n",
            "('analysis', 'of') 1\n",
            "('of', 'numerical') 1\n",
            "('numerical', 'data') 1\n",
            "('with', 'quantifiable') 1\n",
            "('quantifiable', 'variables') 1\n",
            "('variables', 'that') 1\n",
            "('that', 'can') 1\n",
            "('can', 'be') 1\n",
            "('be', 'compared') 1\n",
            "('compared', 'or') 1\n",
            "('or', 'measured') 1\n",
            "('measured', 'statistically') 1\n",
            "('statistically', 'the') 1\n",
            "('the', 'qualitative') 1\n",
            "('qualitative', 'approach') 1\n",
            "('approach', 'is') 1\n",
            "('is', 'more') 1\n",
            "('more', 'interpretive') 1\n",
            "('interpretive', 'it') 1\n",
            "('it', 'focuses') 1\n",
            "('focuses', 'on') 1\n",
            "('on', 'understanding') 1\n",
            "('understanding', 'the') 1\n",
            "('the', 'content') 1\n",
            "('content', 'of') 1\n",
            "('of', 'nonnumerical') 1\n",
            "('nonnumerical', 'data') 1\n",
            "('data', 'like') 1\n",
            "('like', 'text') 1\n",
            "('text', 'images') 1\n",
            "('images', 'audio') 1\n",
            "('audio', 'and') 1\n",
            "('and', 'video') 1\n",
            "('video', 'including') 1\n",
            "('including', 'common') 1\n",
            "('common', 'phrases') 1\n",
            "('phrases', 'themes') 1\n",
            "('themes', 'and') 1\n",
            "('and', 'points') 1\n",
            "('points', 'of') 1\n",
            "('of', 'view') 1\n"
          ]
        }
      ]
    },
    {
      "cell_type": "code",
      "source": [
        "sum(sorte.values())"
      ],
      "metadata": {
        "colab": {
          "base_uri": "https://localhost:8080/"
        },
        "id": "g9UVYWQ-9Jaz",
        "outputId": "d2261db7-e498-4ec8-ce8d-c17df940304b"
      },
      "execution_count": 12,
      "outputs": [
        {
          "output_type": "execute_result",
          "data": {
            "text/plain": [
              "314"
            ]
          },
          "metadata": {},
          "execution_count": 12
        }
      ]
    },
    {
      "cell_type": "code",
      "source": [
        "print(\"Probability of the word 'analytics' occurring after the word 'data' is\", round(sorte['data', 'analytics']/sum(sorte.values()), 3))"
      ],
      "metadata": {
        "colab": {
          "base_uri": "https://localhost:8080/"
        },
        "id": "gjCmCM-QZXEG",
        "outputId": "05d57f62-ae79-4645-ab95-a26dd304a505"
      },
      "execution_count": 13,
      "outputs": [
        {
          "output_type": "stream",
          "name": "stdout",
          "text": [
            "Probability of the word 'analytics' occurring after the word 'data' is 0.019\n"
          ]
        }
      ]
    }
  ]
}